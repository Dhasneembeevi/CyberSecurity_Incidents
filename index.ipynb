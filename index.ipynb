{
 "cells": [
  {
   "cell_type": "code",
   "execution_count": 2,
   "metadata": {},
   "outputs": [],
   "source": [
    "import pandas as pd"
   ]
  },
  {
   "cell_type": "code",
   "execution_count": 3,
   "metadata": {},
   "outputs": [
    {
     "name": "stdout",
     "output_type": "stream",
     "text": [
      "train_df:    Unnamed: 0             Id  OrgId  IncidentId  AlertId  \\\n",
      "0     5172780  1709396985476     26       18583   687462   \n",
      "1     8470561   927712939180     33        5065     3990   \n",
      "2     5897583  1090921697002    201      150787   807590   \n",
      "3     3288552  1434519079555    204      108287    28575   \n",
      "4     4060961  1005022347708     54      528202  1458226   \n",
      "\n",
      "                  Timestamp  DetectorId  AlertTitle            Category  \\\n",
      "0  2024-06-06T05:56:47.000Z          31         813             Malware   \n",
      "1  2024-06-03T10:45:09.000Z          38          25              Impact   \n",
      "2  2024-06-13T03:36:40.000Z         419         444           Execution   \n",
      "3  2024-06-08T16:54:57.000Z          44        1233  SuspiciousActivity   \n",
      "4  2024-06-09T02:48:01.000Z         102       58829        Exfiltration   \n",
      "\n",
      "                                     MitreTechniques  ... ResourceType  \\\n",
      "0                                                NaN  ...          NaN   \n",
      "1                                                NaN  ...          NaN   \n",
      "2  T1047;T1059;T1053;T1569;T1059.001;T1053.002;T1...  ...          NaN   \n",
      "3                                                NaN  ...          NaN   \n",
      "4                                                NaN  ...          NaN   \n",
      "\n",
      "         Roles OSFamily OSVersion AntispamDirection  SuspicionLevel  \\\n",
      "0          NaN        5        66               NaN      Suspicious   \n",
      "1          NaN        5        66               NaN             NaN   \n",
      "2  Destination        5        66               NaN             NaN   \n",
      "3          NaN        5        66               NaN      Suspicious   \n",
      "4          NaN        5        66               NaN             NaN   \n",
      "\n",
      "   LastVerdict  CountryCode  State   City  \n",
      "0    Malicious          242   1445  10630  \n",
      "1          NaN          242   1445  10630  \n",
      "2          NaN          242   1445  10630  \n",
      "3   Suspicious          242   1445  10630  \n",
      "4          NaN          242   1445  10630  \n",
      "\n",
      "[5 rows x 46 columns]\n"
     ]
    }
   ],
   "source": [
    "train_df = pd.read_csv(r\"C:\\Users\\HP\\Downloads\\new_train_sample\\new_train_sample.csv\")\n",
    "print(f\"train_df: {train_df.head()}\")\n"
   ]
  },
  {
   "cell_type": "code",
   "execution_count": 4,
   "metadata": {},
   "outputs": [
    {
     "name": "stdout",
     "output_type": "stream",
     "text": [
      "test_df:               Id  OrgId  IncidentId  AlertId                 Timestamp  \\\n",
      "0  1245540519230    657       11767    87199  2024-06-04T22:56:27.000Z   \n",
      "1  1400159342154      3       91158   632273  2024-06-03T12:58:26.000Z   \n",
      "2  1279900255923    145       32247   131719  2024-06-08T03:20:49.000Z   \n",
      "3    60129547292    222       15294   917686  2024-06-12T12:07:31.000Z   \n",
      "4   515396080539    363        7615     5944  2024-06-06T17:42:05.000Z   \n",
      "\n",
      "   DetectorId  AlertTitle           Category                  MitreTechniques  \\\n",
      "0         524         563    LateralMovement      T1021;T1047;T1105;T1569.002   \n",
      "1           2           2  CommandAndControl                              NaN   \n",
      "2        2932       10807    LateralMovement  T1021;T1027.002;T1027.005;T1105   \n",
      "3           0           0      InitialAccess                  T1078;T1078.004   \n",
      "4          27          18          Discovery                  T1087;T1087.002   \n",
      "\n",
      "    IncidentGrade  ...       Roles OSFamily OSVersion AntispamDirection  \\\n",
      "0  BenignPositive  ...         NaN        5        66               NaN   \n",
      "1  BenignPositive  ...         NaN        0         0               NaN   \n",
      "2  BenignPositive  ...         NaN        5        66               NaN   \n",
      "3   FalsePositive  ...         NaN        5        66               NaN   \n",
      "4  BenignPositive  ...  Suspicious        5        66               NaN   \n",
      "\n",
      "   SuspicionLevel  LastVerdict  CountryCode  State   City    Usage  \n",
      "0      Suspicious   Suspicious          242   1445  10630  Private  \n",
      "1      Suspicious   Suspicious          242   1445  10630   Public  \n",
      "2      Suspicious   Suspicious          242   1445  10630   Public  \n",
      "3             NaN          NaN          242   1445  10630   Public  \n",
      "4             NaN          NaN          242   1445  10630   Public  \n",
      "\n",
      "[5 rows x 46 columns]\n"
     ]
    }
   ],
   "source": [
    "test_df = pd.read_csv(r\"C:\\Users\\HP\\Downloads\\GUIDE_Test\\GUIDE_Test.csv\", low_memory=False)\n",
    "print(f\"test_df: {test_df.head()}\")\n",
    "# print(f\"test_df info: {test_df.info()}\")"
   ]
  },
  {
   "cell_type": "code",
   "execution_count": 5,
   "metadata": {},
   "outputs": [],
   "source": [
    "train_df.fillna(train_df.mode().iloc[0], inplace=True)\n",
    "test_df.fillna(train_df.mode().iloc[0], inplace=True)\n"
   ]
  },
  {
   "cell_type": "code",
   "execution_count": 6,
   "metadata": {},
   "outputs": [
    {
     "name": "stdout",
     "output_type": "stream",
     "text": [
      "Number of train_df data points: 4147992\n",
      "Number of test_df data points: 4147992\n"
     ]
    }
   ],
   "source": [
    "num_data_points = train_df.shape[0]\n",
    "num_data_points = test_df.shape[0]\n",
    "print(\"Number of train_df data points:\", num_data_points)\n",
    "print(\"Number of test_df data points:\", num_data_points)"
   ]
  },
  {
   "cell_type": "code",
   "execution_count": 7,
   "metadata": {},
   "outputs": [
    {
     "data": {
      "image/png": "[encoded data removed]",
      "text/plain": [
       "<Figure size 640x480 with 1 Axes>"
      ]
     },
     "metadata": {},
     "output_type": "display_data"
    }
   ],
   "source": [
    "import seaborn as sns\n",
    "import matplotlib.pyplot as plt\n",
    "\n",
    "sns.countplot(data=train_df, x='IncidentGrade')\n",
    "plt.show()"
   ]
  },
  {
   "cell_type": "markdown",
   "metadata": {},
   "source": [
    "# Split the dataset, taking 80% for training and 20% for testing\n"
   ]
  },
  {
   "cell_type": "code",
   "execution_count": 8,
   "metadata": {},
   "outputs": [
    {
     "name": "stdout",
     "output_type": "stream",
     "text": [
      "Confusion Matrix:\n",
      "[[402758   5920   7172]\n",
      " [ 12800 186225   4189]\n",
      " [ 14989   4137 313494]]\n",
      "\n",
      "Classification Report:\n",
      "              precision    recall  f1-score   support\n",
      "\n",
      "           0       0.94      0.97      0.95    415850\n",
      "           1       0.95      0.92      0.93    203214\n",
      "           2       0.97      0.94      0.95    332620\n",
      "\n",
      "    accuracy                           0.95    951684\n",
      "   macro avg       0.95      0.94      0.95    951684\n",
      "weighted avg       0.95      0.95      0.95    951684\n",
      "\n"
     ]
    }
   ],
   "source": [
    "from sklearn.model_selection import train_test_split\n",
    "from sklearn.ensemble import RandomForestClassifier\n",
    "from sklearn.metrics import classification_report, confusion_matrix\n",
    "from sklearn.preprocessing import LabelEncoder\n",
    "\n",
    "columns_to_keep = [\n",
    "    'IncidentId',\n",
    "    'AlertId',\n",
    "    'Category',\n",
    "    'IncidentGrade',\n",
    "    'EntityType',\n",
    "    'EvidenceRole',\n",
    "    'DeviceId',\n",
    "    'IpAddress',\n",
    "    'ThreatFamily',\n",
    "    'ResourceType',\n",
    "    'AccountName',\n",
    "    'MitreTechniques',\n",
    "    'OSVersion',\n",
    "    'AlertTitle',\n",
    "    'CountryCode', \n",
    "    'State', \n",
    "    'City'\n",
    "]\n",
    "\n",
    "train_df_reduced = train_df[columns_to_keep].copy() \n",
    "test_df_reduced = test_df[columns_to_keep].copy() \n",
    "\n",
    "categorical_columns = ['Category', 'IncidentGrade', 'EntityType', 'EvidenceRole', 'ThreatFamily', 'ResourceType', 'MitreTechniques']\n",
    "\n",
    "encoders = {}\n",
    "for col in categorical_columns:\n",
    "    top_3_values = train_df_reduced[col].value_counts().nlargest(3).index\n",
    "    train_df_reduced[col] = train_df_reduced[col].apply(lambda x: x if x in top_3_values else \"Others\")\n",
    "    test_df_reduced[col] = test_df_reduced[col].apply(lambda x: x if x in top_3_values else \"Others\")\n",
    "    encoder = LabelEncoder()\n",
    "    train_df_reduced[col] = encoder.fit_transform(train_df_reduced[col])\n",
    "    test_df_reduced[col] = encoder.transform(test_df_reduced[col])\n",
    "    encoders[col] = encoder\n",
    "\n",
    "X = train_df_reduced.drop(columns=['IncidentGrade'])\n",
    "y = train_df_reduced['IncidentGrade']\n",
    "\n",
    "X_train, X_val, y_train, y_val = train_test_split(X, y, test_size=0.2, random_state=42)\n",
    "\n",
    "model = RandomForestClassifier(n_estimators=100, random_state=42)\n",
    "\n",
    "model.fit(X_train, y_train)\n",
    "\n",
    "y_pred = model.predict(X_val)\n",
    "\n",
    "print(\"Confusion Matrix:\")\n",
    "print(confusion_matrix(y_val, y_pred))\n",
    "\n",
    "print(\"\\nClassification Report:\")\n",
    "print(classification_report(y_val, y_pred))"
   ]
  },
  {
   "cell_type": "code",
   "execution_count": 9,
   "metadata": {},
   "outputs": [
    {
     "data": {
      "image/png": "[encoded data removed]",
      "text/plain": [
       "<Figure size 640x480 with 2 Axes>"
      ]
     },
     "metadata": {},
     "output_type": "display_data"
    }
   ],
   "source": [
    "# Confusion matrix\n",
    "cm = confusion_matrix(y_val, y_pred)\n",
    "sns.heatmap(cm, annot=True, fmt='d', cmap='Blues')\n",
    "plt.show()"
   ]
  },
  {
   "cell_type": "markdown",
   "metadata": {},
   "source": [
    "# Evaluation\n"
   ]
  },
  {
   "cell_type": "code",
   "execution_count": 10,
   "metadata": {},
   "outputs": [
    {
     "name": "stdout",
     "output_type": "stream",
     "text": [
      "Test Confusion Matrix:\n",
      "[[1504459  131734  116747]\n",
      " [ 165581  679918   57199]\n",
      " [ 177407   62688 1252259]]\n",
      "\n",
      "Test Classification Report:\n",
      "              precision    recall  f1-score   support\n",
      "\n",
      "           0       0.81      0.86      0.84   1752940\n",
      "           1       0.78      0.75      0.77    902698\n",
      "           2       0.88      0.84      0.86   1492354\n",
      "\n",
      "    accuracy                           0.83   4147992\n",
      "   macro avg       0.82      0.82      0.82   4147992\n",
      "weighted avg       0.83      0.83      0.83   4147992\n",
      "\n"
     ]
    }
   ],
   "source": [
    "y_test = test_df_reduced['IncidentGrade']\n",
    "y_test_pred = model.predict(test_df_reduced.drop(columns=['IncidentGrade']))\n",
    "\n",
    "print(\"Test Confusion Matrix:\")\n",
    "print(confusion_matrix(y_test, y_test_pred))\n",
    "\n",
    "print(\"\\nTest Classification Report:\")\n",
    "print(classification_report(y_test, y_test_pred))"
   ]
  }
 ],
 "metadata": {
  "kernelspec": {
   "display_name": ".venv",
   "language": "python",
   "name": "python3"
  },
  "language_info": {
   "codemirror_mode": {
    "name": "ipython",
    "version": 3
   },
   "file_extension": ".py",
   "mimetype": "text/x-python",
   "name": "python",
   "nbconvert_exporter": "python",
   "pygments_lexer": "ipython3",
   "version": "3.10.11"
  }
 },
 "nbformat": 4,
 "nbformat_minor": 2
}
